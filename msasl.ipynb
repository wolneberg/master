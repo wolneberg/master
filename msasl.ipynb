{
 "cells": [
  {
   "cell_type": "code",
   "execution_count": 49,
   "metadata": {},
   "outputs": [],
   "source": [
    "from moviepy.editor import *"
   ]
  },
  {
   "cell_type": "code",
   "execution_count": 50,
   "metadata": {},
   "outputs": [
    {
     "name": "stdout",
     "output_type": "stream",
     "text": [
      "{'org_text': 'match [light-a-MATCH]', 'clean_text': 'match', 'start_time': 0.0, 'signer_id': 0, 'signer': 0, 'start': 0, 'end': 83, 'file': 'match light-a-MATCH', 'label': 830, 'height': 360.0, 'fps': 30.0, 'end_time': 2.767, 'url': 'https://www.youtube.com/watch?v=C37R_Ix8-qs', 'text': 'match', 'box': [0.05754461884498596, 0.21637457609176636, 1.0, 0.7300844192504883], 'width': 640.0}\n",
      "{'org_text': 'FAIL', 'clean_text': 'fail', 'start_time': 0.0, 'signer_id': 0, 'signer': -1, 'start': 0, 'end': 74, 'file': 'FAIL', 'label': 542, 'height': 360.0, 'fps': 25.0, 'end_time': 2.96, 'url': 'https://www.youtube.com/watch?v=PIsUJl8BN_I', 'text': 'fail', 'box': [0.0657794177532196, 0.16717177629470825, 0.9392627477645874, 0.9187960028648376], 'width': 480.0}\n",
      "{'org_text': 'laugh', 'clean_text': 'laugh', 'start_time': 0.0, 'signer_id': 4, 'signer': 26, 'start': 0, 'end': 31, 'file': 'SignSchool Laugh with Legs 2', 'label': 312, 'height': 360.0, 'fps': 29.97, 'end_time': 1.034, 'url': 'www.youtube.com/watch?v=9FdHlMOnVjg', 'text': 'laugh', 'box': [0.13188594579696655, 0.32334136962890625, 1.0, 0.831863522529602], 'width': 640.0}\n",
      "{'org_text': 'BOOK', 'clean_text': 'book', 'start_time': 0.0, 'signer_id': 0, 'signer': -1, 'start': 0, 'end': 66, 'file': 'BOOK(3)', 'label': 38, 'height': 360.0, 'fps': 25.0, 'end_time': 2.64, 'url': 'https://www.youtube.com/watch?v=J7tP98oDxqE', 'text': 'book', 'box': [0.05569887161254883, 0.25173279643058777, 0.9968159794807434, 0.9009996652603149], 'width': 480.0}\n",
      "{'org_text': 'sign-language', 'clean_text': 'sign language', 'start_time': 0.0, 'signer_id': 0, 'signer': -1, 'start': 0, 'end': 75, 'file': 'SIGN-LANGUAGE-S-CLAW-F', 'label': 848, 'height': 360.0, 'fps': 29.97, 'end_time': 2.502, 'url': 'www.youtube.com/watch?v=N2mG9ZKjrGA', 'text': 'sign language', 'box': [0.03904399275779724, 0.24198183417320251, 1.0, 0.8586810827255249], 'width': 640.0}\n",
      "{'org_text': 'school', 'clean_text': 'school', 'start_time': 1.101, 'signer_id': 1, 'signer': 44, 'start': 33, 'end': 110, 'file': 'ASL Vocabulary school', 'label': 10, 'height': 360.0, 'fps': 29.97, 'end_time': 3.67, 'url': 'https://www.youtube.com/watch?v=1AyT77LqJzQ', 'review': 1, 'text': 'school', 'box': [0.0, 0.07651948928833008, 1.0, 1.0], 'width': 640.0}\n",
      "{'org_text': 'school', 'clean_text': 'school', 'start_time': 4.671, 'signer_id': 1, 'signer': 44, 'start': 140, 'end': 206, 'file': 'ASL Vocabulary school', 'label': 10, 'height': 360.0, 'fps': 29.97, 'end_time': 6.874, 'url': 'https://www.youtube.com/watch?v=1AyT77LqJzQ', 'review': 1, 'text': 'school', 'box': [0.0, 0.07651948928833008, 1.0, 1.0], 'width': 640.0}\n",
      "{'org_text': 'easter', 'clean_text': 'easter', 'start_time': 0.0, 'signer_id': 2, 'signer': 58, 'start': 0, 'end': 116, 'file': 'Easter', 'label': 794, 'height': 360.0, 'fps': 29.595, 'end_time': 3.92, 'url': 'https://www.youtube.com/watch?v=SVWABYmFdhs', 'text': 'easter', 'box': [0.0, 0.12271708250045776, 1.0, 0.8596268892288208], 'width': 640.0}\n",
      "{'org_text': 'Boring ', 'clean_text': 'boring', 'start_time': 0.0, 'signer_id': 13, 'signer': -1, 'start': 0, 'end': 71, 'file': 'ASL Boring ', 'label': 46, 'height': 360.0, 'fps': 25.0, 'end_time': 2.84, 'url': 'https://www.youtube.com/watch?v=CYx7qm62Zwo', 'text': 'bored', 'box': [0.056927233934402466, 0.26684892177581787, 0.9996088743209839, 0.6117504239082336], 'width': 640.0}\n",
      "{'org_text': 'PAST', 'clean_text': 'past', 'start_time': 0.0, 'signer_id': 191, 'signer': 13, 'start': 0, 'end': 32, 'file': 'PAST', 'label': 510, 'height': 720.0, 'fps': 29.97, 'end_time': 1.068, 'url': 'https://www.youtube.com/watch?v=cJOyCgIKyeA', 'text': 'past', 'box': [0.06102180480957031, 0.2915322780609131, 0.9981908798217773, 0.7298327684402466], 'width': 1280.0}\n",
      "{'org_text': 'telephone', 'clean_text': 'phone', 'start_time': 0.0, 'signer_id': 2, 'signer': 81, 'start': 0, 'end': 56, 'file': 'Telephone', 'label': 120, 'height': 360.0, 'fps': 29.651, 'end_time': 1.889, 'url': 'https://www.youtube.com/watch?v=HPz_C5XM4o4', 'review': 1, 'text': 'phone', 'box': [0.0, 0.13323259353637695, 1.0, 0.8751190900802612], 'width': 640.0}\n",
      "{'org_text': 'telephone', 'clean_text': 'phone', 'start_time': 2.462, 'signer_id': 2, 'signer': 81, 'start': 73, 'end': 123, 'file': 'Telephone', 'label': 120, 'height': 360.0, 'fps': 29.651, 'end_time': 4.148, 'url': 'https://www.youtube.com/watch?v=HPz_C5XM4o4', 'review': 1, 'text': 'phone', 'box': [0.0, 0.13323259353637695, 1.0, 0.8751190900802612], 'width': 640.0}\n",
      "{'org_text': 'telephone', 'clean_text': 'phone', 'start_time': 4.991, 'signer_id': 2, 'signer': 81, 'start': 148, 'end': 196, 'file': 'Telephone', 'label': 120, 'height': 360.0, 'fps': 29.651, 'end_time': 6.61, 'url': 'https://www.youtube.com/watch?v=HPz_C5XM4o4', 'review': 1, 'text': 'phone', 'box': [0.0, 0.13323259353637695, 1.0, 0.8751190900802612], 'width': 640.0}\n",
      "{'org_text': 'LIBRARY', 'clean_text': 'library', 'start_time': 0.0, 'signer_id': 0, 'signer': -1, 'start': 0, 'end': 73, 'file': 'LIBRARY(2)', 'label': 168, 'height': 360.0, 'fps': 25.0, 'end_time': 2.92, 'url': 'https://www.youtube.com/watch?v=S2cqitZ0qes', 'text': 'library', 'box': [0.021932870149612427, 0.17817333340644836, 0.995293378829956, 0.8944110870361328], 'width': 480.0}\n",
      "{'org_text': 'germany', 'clean_text': 'germany', 'start_time': 0.0, 'signer_id': 4, 'signer': 46, 'start': 0, 'end': 36, 'file': 'SignSchool Germany 3', 'label': 193, 'height': 360.0, 'fps': 29.97, 'end_time': 1.201, 'url': 'www.youtube.com/watch?v=zqfcp6NRKpA', 'text': 'germany', 'box': [0.10457548499107361, 0.23188011348247528, 1.0, 0.7407175898551941], 'width': 640.0}\n",
      "{'org_text': 'like', 'clean_text': 'like', 'start_time': 0.0, 'signer_id': 269, 'signer': 53, 'start': 0, 'end': 52, 'file': 'SignSchool really like', 'label': 6, 'height': 360.0, 'fps': 29.97, 'end_time': 1.735, 'url': 'www.youtube.com/watch?v=7y5Ye-2-ZBs', 'text': 'like', 'box': [0.04046148061752319, 0.3353118896484375, 0.998772382736206, 0.886972963809967], 'width': 640.0}\n",
      "{'org_text': 'COCHLEAR IMPLANT-[bent V version]', 'clean_text': 'cochlear implant', 'start_time': 0.0, 'signer_id': 0, 'signer': 0, 'start': 0, 'end': 112, 'file': 'COCHLEAR IMPLANT-bent V version', 'label': 916, 'height': 720.0, 'fps': 29.97, 'end_time': 3.737, 'url': 'https://www.youtube.com/watch?v=I_QDeKcyvns', 'text': 'cochlear implant', 'box': [0.01584610342979431, 0.24385881423950195, 1.0, 0.7607566118240356], 'width': 1280.0}\n",
      "{'org_text': 'rainbow ', 'clean_text': 'rainbow', 'start_time': 1.804, 'signer_id': 144, 'signer': -1, 'start': 54, 'end': 165, 'file': 'rainbow - ASL sign for rainbow', 'label': 669, 'height': 360.0, 'fps': 29.934, 'end_time': 5.512, 'url': 'https://www.youtube.com/watch?v=WeAFuzYTdtU', 'review': 1, 'text': 'rainbow', 'box': [0.004803866147994995, 0.0, 1.0, 0.9657534956932068], 'width': 480.0}\n",
      "{'org_text': 'rainbow ', 'clean_text': 'rainbow', 'start_time': 5.813, 'signer_id': 144, 'signer': -1, 'start': 174, 'end': 269, 'file': 'rainbow - ASL sign for rainbow', 'label': 669, 'height': 360.0, 'fps': 29.934, 'end_time': 8.986, 'url': 'https://www.youtube.com/watch?v=WeAFuzYTdtU', 'review': 1, 'text': 'rainbow', 'box': [0.004803866147994995, 0.0, 1.0, 0.9657534956932068], 'width': 480.0}\n",
      "{'org_text': 'rainbow ', 'clean_text': 'rainbow', 'start_time': 9.354, 'signer_id': 144, 'signer': -1, 'start': 280, 'end': 435, 'file': 'rainbow - ASL sign for rainbow', 'label': 669, 'height': 360.0, 'fps': 29.934, 'end_time': 14.532, 'url': 'https://www.youtube.com/watch?v=WeAFuzYTdtU', 'review': 1, 'text': 'rainbow', 'box': [0.004803866147994995, 0.0, 1.0, 0.9657534956932068], 'width': 480.0}\n"
     ]
    }
   ],
   "source": [
    "# limits number of files to download as not to chew through SSD write cycle\n",
    "# limit = 99999\n",
    "limit = 20\n",
    "\n",
    "limitedDataset = []\n",
    "\n",
    "import json\n",
    "\n",
    "with open('/Users/ingridmariewolneberg/Desktop/msasl_jsons/MSASL_train.json') as f:\n",
    "    d = json.load(f)\n",
    "    \n",
    "    for i in range(limit):\n",
    "        \n",
    "        limitedDataset.append([d[i]['clean_text'], d[i]['url'], d[i]['start_time'], d[i]['end_time']])\n",
    "        print(d[i])"
   ]
  },
  {
   "cell_type": "code",
   "execution_count": 51,
   "metadata": {},
   "outputs": [],
   "source": [
    "import os\n",
    "import glob\n",
    "\n",
    "# folder_path = 'C:/your/path/to/folder/'\n",
    "folder_path = '/Users/ingridmariewolneberg/Desktop/msasl/'\n",
    "file_extension = 'mp4'\n",
    "\n",
    "# output paths\n",
    "dataset_path = 'dataset/'\n",
    "trimmed_dataset_path = 'trimmed_dataset/'"
   ]
  },
  {
   "cell_type": "code",
   "execution_count": 52,
   "metadata": {},
   "outputs": [],
   "source": [
    "# Get a list of all mp4 files in the folder\n",
    "files = os.listdir(folder_path + dataset_path)\n",
    "\n",
    "filenames = []\n",
    "\n",
    "def loadFilenames():\n",
    "    # Print the list of files\n",
    "    for file in files:\n",
    "        filenames.append(os.path.splitext(file)[0])\n",
    "        # print(filenames)\n",
    "        # print(len(filenames))"
   ]
  },
  {
   "cell_type": "code",
   "execution_count": 53,
   "metadata": {},
   "outputs": [],
   "source": [
    "from urllib.parse import urlparse, parse_qs\n",
    "\n",
    "fileLookup = {}\n",
    "toDownload = {}\n",
    "\n",
    "def query(url):\n",
    "    try:\n",
    "        parsed_url = urlparse(url)\n",
    "        query_params = parse_qs(parsed_url.query)\n",
    "        # print(query_params['v'])\n",
    "        # toDownload.append((query_params['v']))\n",
    "        return query_params['v']\n",
    "\n",
    "    except Exception as e:\n",
    "        print(e)\n",
    "        url = 'https://' + url\n",
    "        parsed_url = urlparse(url)\n",
    "        query_params = parse_qs(parsed_url.query)\n",
    "        return query_params['v']\n",
    "\n",
    "def getVideoUrl():\n",
    "    for subarray in limitedDataset:\n",
    "        queriedLink = query(subarray[1])\n",
    "        # print('queriedLink ' + queriedLink[0])\n",
    "        if all([queriedLink[0] not in filenames]):\n",
    "            toDownload[queriedLink[0]] = []\n",
    "            print(toDownload)\n",
    "            # toDownload.append(subarray[1])\n",
    "\n",
    "\n",
    "def getTimeStamps():\n",
    "    for subarray in limitedDataset:\n",
    "        queriedLink = query(subarray[1])\n",
    "        if all([queriedLink[0] not in filenames]):\n",
    "            # print(queriedLink[0])\n",
    "            toDownload.get(queriedLink[0]).append(\n",
    "                [subarray[0], subarray[2], subarray[3]])\n",
    "            \n",
    "def getAllVideoUrl():\n",
    "    for subarray in limitedDataset:\n",
    "        queriedLink = query(subarray[1])\n",
    "        print('queriedLink ' + queriedLink[0])\n",
    "        print(filenames)\n",
    "        if all([queriedLink[0] in filenames]):\n",
    "            fileLookup[queriedLink[0]] = []\n",
    "            print(fileLookup)\n",
    "            # toDownload.append(subarray[1])\n",
    "\n",
    "def getAllTimeStamps():\n",
    "    for subarray in limitedDataset:\n",
    "        queriedLink = query(subarray[1])\n",
    "        if all([queriedLink[0] in filenames]):\n",
    "            fileLookup.get(queriedLink[0]).append(\n",
    "                [subarray[0], subarray[2], subarray[3]])\n",
    "            \n",
    "            \n",
    "    # print(len(fileLookup))\n",
    "\n",
    "\n",
    "\n",
    "# create a dictionary to store video url, then store id, start and end"
   ]
  },
  {
   "cell_type": "code",
   "execution_count": 47,
   "metadata": {},
   "outputs": [
    {
     "name": "stdout",
     "output_type": "stream",
     "text": [
      "{'C37R_Ix8-qs': []}\n",
      "{'C37R_Ix8-qs': [], 'PIsUJl8BN_I': []}\n",
      "{'C37R_Ix8-qs': [], 'PIsUJl8BN_I': [], '9FdHlMOnVjg': []}\n",
      "{'C37R_Ix8-qs': [], 'PIsUJl8BN_I': [], '9FdHlMOnVjg': [], 'J7tP98oDxqE': []}\n",
      "{'C37R_Ix8-qs': [], 'PIsUJl8BN_I': [], '9FdHlMOnVjg': [], 'J7tP98oDxqE': [], 'N2mG9ZKjrGA': []}\n",
      "{'C37R_Ix8-qs': [], 'PIsUJl8BN_I': [], '9FdHlMOnVjg': [], 'J7tP98oDxqE': [], 'N2mG9ZKjrGA': [], '1AyT77LqJzQ': []}\n",
      "{'C37R_Ix8-qs': [], 'PIsUJl8BN_I': [], '9FdHlMOnVjg': [], 'J7tP98oDxqE': [], 'N2mG9ZKjrGA': [], '1AyT77LqJzQ': []}\n",
      "{'C37R_Ix8-qs': [], 'PIsUJl8BN_I': [], '9FdHlMOnVjg': [], 'J7tP98oDxqE': [], 'N2mG9ZKjrGA': [], '1AyT77LqJzQ': [], 'SVWABYmFdhs': []}\n",
      "{'C37R_Ix8-qs': [], 'PIsUJl8BN_I': [], '9FdHlMOnVjg': [], 'J7tP98oDxqE': [], 'N2mG9ZKjrGA': [], '1AyT77LqJzQ': [], 'SVWABYmFdhs': [], 'CYx7qm62Zwo': []}\n",
      "{'C37R_Ix8-qs': [], 'PIsUJl8BN_I': [], '9FdHlMOnVjg': [], 'J7tP98oDxqE': [], 'N2mG9ZKjrGA': [], '1AyT77LqJzQ': [], 'SVWABYmFdhs': [], 'CYx7qm62Zwo': [], 'cJOyCgIKyeA': []}\n",
      "{'C37R_Ix8-qs': [], 'PIsUJl8BN_I': [], '9FdHlMOnVjg': [], 'J7tP98oDxqE': [], 'N2mG9ZKjrGA': [], '1AyT77LqJzQ': [], 'SVWABYmFdhs': [], 'CYx7qm62Zwo': [], 'cJOyCgIKyeA': [], 'HPz_C5XM4o4': []}\n",
      "{'C37R_Ix8-qs': [], 'PIsUJl8BN_I': [], '9FdHlMOnVjg': [], 'J7tP98oDxqE': [], 'N2mG9ZKjrGA': [], '1AyT77LqJzQ': [], 'SVWABYmFdhs': [], 'CYx7qm62Zwo': [], 'cJOyCgIKyeA': [], 'HPz_C5XM4o4': []}\n",
      "{'C37R_Ix8-qs': [], 'PIsUJl8BN_I': [], '9FdHlMOnVjg': [], 'J7tP98oDxqE': [], 'N2mG9ZKjrGA': [], '1AyT77LqJzQ': [], 'SVWABYmFdhs': [], 'CYx7qm62Zwo': [], 'cJOyCgIKyeA': [], 'HPz_C5XM4o4': []}\n",
      "{'C37R_Ix8-qs': [], 'PIsUJl8BN_I': [], '9FdHlMOnVjg': [], 'J7tP98oDxqE': [], 'N2mG9ZKjrGA': [], '1AyT77LqJzQ': [], 'SVWABYmFdhs': [], 'CYx7qm62Zwo': [], 'cJOyCgIKyeA': [], 'HPz_C5XM4o4': [], 'S2cqitZ0qes': []}\n",
      "{'C37R_Ix8-qs': [], 'PIsUJl8BN_I': [], '9FdHlMOnVjg': [], 'J7tP98oDxqE': [], 'N2mG9ZKjrGA': [], '1AyT77LqJzQ': [], 'SVWABYmFdhs': [], 'CYx7qm62Zwo': [], 'cJOyCgIKyeA': [], 'HPz_C5XM4o4': [], 'S2cqitZ0qes': [], 'zqfcp6NRKpA': []}\n",
      "{'C37R_Ix8-qs': [], 'PIsUJl8BN_I': [], '9FdHlMOnVjg': [], 'J7tP98oDxqE': [], 'N2mG9ZKjrGA': [], '1AyT77LqJzQ': [], 'SVWABYmFdhs': [], 'CYx7qm62Zwo': [], 'cJOyCgIKyeA': [], 'HPz_C5XM4o4': [], 'S2cqitZ0qes': [], 'zqfcp6NRKpA': [], '7y5Ye-2-ZBs': []}\n",
      "{'C37R_Ix8-qs': [], 'PIsUJl8BN_I': [], '9FdHlMOnVjg': [], 'J7tP98oDxqE': [], 'N2mG9ZKjrGA': [], '1AyT77LqJzQ': [], 'SVWABYmFdhs': [], 'CYx7qm62Zwo': [], 'cJOyCgIKyeA': [], 'HPz_C5XM4o4': [], 'S2cqitZ0qes': [], 'zqfcp6NRKpA': [], '7y5Ye-2-ZBs': [], 'I_QDeKcyvns': []}\n",
      "{'C37R_Ix8-qs': [], 'PIsUJl8BN_I': [], '9FdHlMOnVjg': [], 'J7tP98oDxqE': [], 'N2mG9ZKjrGA': [], '1AyT77LqJzQ': [], 'SVWABYmFdhs': [], 'CYx7qm62Zwo': [], 'cJOyCgIKyeA': [], 'HPz_C5XM4o4': [], 'S2cqitZ0qes': [], 'zqfcp6NRKpA': [], '7y5Ye-2-ZBs': [], 'I_QDeKcyvns': [], 'WeAFuzYTdtU': []}\n",
      "{'C37R_Ix8-qs': [], 'PIsUJl8BN_I': [], '9FdHlMOnVjg': [], 'J7tP98oDxqE': [], 'N2mG9ZKjrGA': [], '1AyT77LqJzQ': [], 'SVWABYmFdhs': [], 'CYx7qm62Zwo': [], 'cJOyCgIKyeA': [], 'HPz_C5XM4o4': [], 'S2cqitZ0qes': [], 'zqfcp6NRKpA': [], '7y5Ye-2-ZBs': [], 'I_QDeKcyvns': [], 'WeAFuzYTdtU': []}\n",
      "{'C37R_Ix8-qs': [], 'PIsUJl8BN_I': [], '9FdHlMOnVjg': [], 'J7tP98oDxqE': [], 'N2mG9ZKjrGA': [], '1AyT77LqJzQ': [], 'SVWABYmFdhs': [], 'CYx7qm62Zwo': [], 'cJOyCgIKyeA': [], 'HPz_C5XM4o4': [], 'S2cqitZ0qes': [], 'zqfcp6NRKpA': [], '7y5Ye-2-ZBs': [], 'I_QDeKcyvns': [], 'WeAFuzYTdtU': []}\n",
      "https://www.youtube.com/watch?v=C37R_Ix8-qs\n",
      "downloading\n",
      "https://www.youtube.com/watch?v=PIsUJl8BN_I\n",
      "downloading\n",
      "https://www.youtube.com/watch?v=9FdHlMOnVjg\n",
      "9FdHlMOnVjg is a private video\n",
      "9FdHlMOnVjg is private\n",
      "https://www.youtube.com/watch?v=J7tP98oDxqE\n",
      "downloading\n",
      "https://www.youtube.com/watch?v=N2mG9ZKjrGA\n",
      "downloading\n",
      "https://www.youtube.com/watch?v=1AyT77LqJzQ\n",
      "1AyT77LqJzQ is unavailable\n",
      "1AyT77LqJzQ is private\n",
      "https://www.youtube.com/watch?v=SVWABYmFdhs\n",
      "downloading\n",
      "https://www.youtube.com/watch?v=CYx7qm62Zwo\n",
      "downloading\n",
      "https://www.youtube.com/watch?v=cJOyCgIKyeA\n",
      "cJOyCgIKyeA is unavailable\n",
      "cJOyCgIKyeA is private\n",
      "https://www.youtube.com/watch?v=HPz_C5XM4o4\n",
      "downloading\n",
      "https://www.youtube.com/watch?v=S2cqitZ0qes\n",
      "downloading\n",
      "https://www.youtube.com/watch?v=zqfcp6NRKpA\n",
      "zqfcp6NRKpA is a private video\n",
      "zqfcp6NRKpA is private\n",
      "https://www.youtube.com/watch?v=7y5Ye-2-ZBs\n",
      "7y5Ye-2-ZBs is a private video\n",
      "7y5Ye-2-ZBs is private\n",
      "https://www.youtube.com/watch?v=I_QDeKcyvns\n",
      "downloading\n",
      "https://www.youtube.com/watch?v=WeAFuzYTdtU\n",
      "downloading\n"
     ]
    }
   ],
   "source": [
    "from pytube import YouTube\n",
    "from pytube.exceptions import VideoPrivate\n",
    "from pytube.exceptions import VideoUnavailable\n",
    "from pytube.cli import on_progress\n",
    "from pytube import YouTube\n",
    "\n",
    "\n",
    "def downloadVideo(file):\n",
    "    i = file\n",
    "    try:\n",
    "        path = folder_path + dataset_path\n",
    "        url = 'https://www.youtube.com/watch?v=' + i\n",
    "        print(url)\n",
    "        yt = YouTube(url)\n",
    "        \n",
    "        stream = yt.streams.filter(file_extension='mp4').first()\n",
    "        \n",
    "\n",
    "    except VideoUnavailable as e:\n",
    "        print(e)\n",
    "        print(i + ' is private')\n",
    "        \n",
    "    except Exception as e:\n",
    "        print(e)\n",
    "\n",
    "    else:\n",
    "        if(stream != None):\n",
    "            stream.download(filename=i + \".mp4\", output_path=path)\n",
    "            print('downloading')\n",
    "\n",
    "getVideoUrl()\n",
    "getTimeStamps()\n",
    "\n",
    "for item in toDownload:\n",
    "    downloadVideo(item)\n"
   ]
  },
  {
   "cell_type": "code",
   "execution_count": 48,
   "metadata": {},
   "outputs": [
    {
     "name": "stdout",
     "output_type": "stream",
     "text": [
      "[['match', 'https://www.youtube.com/watch?v=C37R_Ix8-qs', 0.0, 2.767], ['fail', 'https://www.youtube.com/watch?v=PIsUJl8BN_I', 0.0, 2.96], ['laugh', 'www.youtube.com/watch?v=9FdHlMOnVjg', 0.0, 1.034], ['book', 'https://www.youtube.com/watch?v=J7tP98oDxqE', 0.0, 2.64], ['sign language', 'www.youtube.com/watch?v=N2mG9ZKjrGA', 0.0, 2.502], ['school', 'https://www.youtube.com/watch?v=1AyT77LqJzQ', 1.101, 3.67], ['school', 'https://www.youtube.com/watch?v=1AyT77LqJzQ', 4.671, 6.874], ['easter', 'https://www.youtube.com/watch?v=SVWABYmFdhs', 0.0, 3.92], ['boring', 'https://www.youtube.com/watch?v=CYx7qm62Zwo', 0.0, 2.84], ['past', 'https://www.youtube.com/watch?v=cJOyCgIKyeA', 0.0, 1.068], ['phone', 'https://www.youtube.com/watch?v=HPz_C5XM4o4', 0.0, 1.889], ['phone', 'https://www.youtube.com/watch?v=HPz_C5XM4o4', 2.462, 4.148], ['phone', 'https://www.youtube.com/watch?v=HPz_C5XM4o4', 4.991, 6.61], ['library', 'https://www.youtube.com/watch?v=S2cqitZ0qes', 0.0, 2.92], ['germany', 'www.youtube.com/watch?v=zqfcp6NRKpA', 0.0, 1.201], ['like', 'www.youtube.com/watch?v=7y5Ye-2-ZBs', 0.0, 1.735], ['cochlear implant', 'https://www.youtube.com/watch?v=I_QDeKcyvns', 0.0, 3.737], ['rainbow', 'https://www.youtube.com/watch?v=WeAFuzYTdtU', 1.804, 5.512], ['rainbow', 'https://www.youtube.com/watch?v=WeAFuzYTdtU', 5.813, 8.986], ['rainbow', 'https://www.youtube.com/watch?v=WeAFuzYTdtU', 9.354, 14.532]]\n",
      "['I_QDeKcyvns', '.DS_Store', 'N2mG9ZKjrGA', 'C37R_Ix8-qs', 'SVWABYmFdhs', 'J7tP98oDxqE', 'CYx7qm62Zwo', 'WeAFuzYTdtU', 'PIsUJl8BN_I', 'S2cqitZ0qes', 'HPz_C5XM4o4']\n",
      "queriedLink C37R_Ix8-qs\n",
      "['I_QDeKcyvns', '.DS_Store', 'N2mG9ZKjrGA', 'C37R_Ix8-qs', 'SVWABYmFdhs', 'J7tP98oDxqE', 'CYx7qm62Zwo', 'WeAFuzYTdtU', 'PIsUJl8BN_I', 'S2cqitZ0qes', 'HPz_C5XM4o4']\n",
      "{'C37R_Ix8-qs': []}\n",
      "queriedLink PIsUJl8BN_I\n",
      "['I_QDeKcyvns', '.DS_Store', 'N2mG9ZKjrGA', 'C37R_Ix8-qs', 'SVWABYmFdhs', 'J7tP98oDxqE', 'CYx7qm62Zwo', 'WeAFuzYTdtU', 'PIsUJl8BN_I', 'S2cqitZ0qes', 'HPz_C5XM4o4']\n",
      "{'C37R_Ix8-qs': [], 'PIsUJl8BN_I': []}\n",
      "queriedLink 9FdHlMOnVjg\n",
      "['I_QDeKcyvns', '.DS_Store', 'N2mG9ZKjrGA', 'C37R_Ix8-qs', 'SVWABYmFdhs', 'J7tP98oDxqE', 'CYx7qm62Zwo', 'WeAFuzYTdtU', 'PIsUJl8BN_I', 'S2cqitZ0qes', 'HPz_C5XM4o4']\n",
      "queriedLink J7tP98oDxqE\n",
      "['I_QDeKcyvns', '.DS_Store', 'N2mG9ZKjrGA', 'C37R_Ix8-qs', 'SVWABYmFdhs', 'J7tP98oDxqE', 'CYx7qm62Zwo', 'WeAFuzYTdtU', 'PIsUJl8BN_I', 'S2cqitZ0qes', 'HPz_C5XM4o4']\n",
      "{'C37R_Ix8-qs': [], 'PIsUJl8BN_I': [], 'J7tP98oDxqE': []}\n",
      "queriedLink N2mG9ZKjrGA\n",
      "['I_QDeKcyvns', '.DS_Store', 'N2mG9ZKjrGA', 'C37R_Ix8-qs', 'SVWABYmFdhs', 'J7tP98oDxqE', 'CYx7qm62Zwo', 'WeAFuzYTdtU', 'PIsUJl8BN_I', 'S2cqitZ0qes', 'HPz_C5XM4o4']\n",
      "{'C37R_Ix8-qs': [], 'PIsUJl8BN_I': [], 'J7tP98oDxqE': [], 'N2mG9ZKjrGA': []}\n",
      "queriedLink 1AyT77LqJzQ\n",
      "['I_QDeKcyvns', '.DS_Store', 'N2mG9ZKjrGA', 'C37R_Ix8-qs', 'SVWABYmFdhs', 'J7tP98oDxqE', 'CYx7qm62Zwo', 'WeAFuzYTdtU', 'PIsUJl8BN_I', 'S2cqitZ0qes', 'HPz_C5XM4o4']\n",
      "queriedLink 1AyT77LqJzQ\n",
      "['I_QDeKcyvns', '.DS_Store', 'N2mG9ZKjrGA', 'C37R_Ix8-qs', 'SVWABYmFdhs', 'J7tP98oDxqE', 'CYx7qm62Zwo', 'WeAFuzYTdtU', 'PIsUJl8BN_I', 'S2cqitZ0qes', 'HPz_C5XM4o4']\n",
      "queriedLink SVWABYmFdhs\n",
      "['I_QDeKcyvns', '.DS_Store', 'N2mG9ZKjrGA', 'C37R_Ix8-qs', 'SVWABYmFdhs', 'J7tP98oDxqE', 'CYx7qm62Zwo', 'WeAFuzYTdtU', 'PIsUJl8BN_I', 'S2cqitZ0qes', 'HPz_C5XM4o4']\n",
      "{'C37R_Ix8-qs': [], 'PIsUJl8BN_I': [], 'J7tP98oDxqE': [], 'N2mG9ZKjrGA': [], 'SVWABYmFdhs': []}\n",
      "queriedLink CYx7qm62Zwo\n",
      "['I_QDeKcyvns', '.DS_Store', 'N2mG9ZKjrGA', 'C37R_Ix8-qs', 'SVWABYmFdhs', 'J7tP98oDxqE', 'CYx7qm62Zwo', 'WeAFuzYTdtU', 'PIsUJl8BN_I', 'S2cqitZ0qes', 'HPz_C5XM4o4']\n",
      "{'C37R_Ix8-qs': [], 'PIsUJl8BN_I': [], 'J7tP98oDxqE': [], 'N2mG9ZKjrGA': [], 'SVWABYmFdhs': [], 'CYx7qm62Zwo': []}\n",
      "queriedLink cJOyCgIKyeA\n",
      "['I_QDeKcyvns', '.DS_Store', 'N2mG9ZKjrGA', 'C37R_Ix8-qs', 'SVWABYmFdhs', 'J7tP98oDxqE', 'CYx7qm62Zwo', 'WeAFuzYTdtU', 'PIsUJl8BN_I', 'S2cqitZ0qes', 'HPz_C5XM4o4']\n",
      "queriedLink HPz_C5XM4o4\n",
      "['I_QDeKcyvns', '.DS_Store', 'N2mG9ZKjrGA', 'C37R_Ix8-qs', 'SVWABYmFdhs', 'J7tP98oDxqE', 'CYx7qm62Zwo', 'WeAFuzYTdtU', 'PIsUJl8BN_I', 'S2cqitZ0qes', 'HPz_C5XM4o4']\n",
      "{'C37R_Ix8-qs': [], 'PIsUJl8BN_I': [], 'J7tP98oDxqE': [], 'N2mG9ZKjrGA': [], 'SVWABYmFdhs': [], 'CYx7qm62Zwo': [], 'HPz_C5XM4o4': []}\n",
      "queriedLink HPz_C5XM4o4\n",
      "['I_QDeKcyvns', '.DS_Store', 'N2mG9ZKjrGA', 'C37R_Ix8-qs', 'SVWABYmFdhs', 'J7tP98oDxqE', 'CYx7qm62Zwo', 'WeAFuzYTdtU', 'PIsUJl8BN_I', 'S2cqitZ0qes', 'HPz_C5XM4o4']\n",
      "{'C37R_Ix8-qs': [], 'PIsUJl8BN_I': [], 'J7tP98oDxqE': [], 'N2mG9ZKjrGA': [], 'SVWABYmFdhs': [], 'CYx7qm62Zwo': [], 'HPz_C5XM4o4': []}\n",
      "queriedLink HPz_C5XM4o4\n",
      "['I_QDeKcyvns', '.DS_Store', 'N2mG9ZKjrGA', 'C37R_Ix8-qs', 'SVWABYmFdhs', 'J7tP98oDxqE', 'CYx7qm62Zwo', 'WeAFuzYTdtU', 'PIsUJl8BN_I', 'S2cqitZ0qes', 'HPz_C5XM4o4']\n",
      "{'C37R_Ix8-qs': [], 'PIsUJl8BN_I': [], 'J7tP98oDxqE': [], 'N2mG9ZKjrGA': [], 'SVWABYmFdhs': [], 'CYx7qm62Zwo': [], 'HPz_C5XM4o4': []}\n",
      "queriedLink S2cqitZ0qes\n",
      "['I_QDeKcyvns', '.DS_Store', 'N2mG9ZKjrGA', 'C37R_Ix8-qs', 'SVWABYmFdhs', 'J7tP98oDxqE', 'CYx7qm62Zwo', 'WeAFuzYTdtU', 'PIsUJl8BN_I', 'S2cqitZ0qes', 'HPz_C5XM4o4']\n",
      "{'C37R_Ix8-qs': [], 'PIsUJl8BN_I': [], 'J7tP98oDxqE': [], 'N2mG9ZKjrGA': [], 'SVWABYmFdhs': [], 'CYx7qm62Zwo': [], 'HPz_C5XM4o4': [], 'S2cqitZ0qes': []}\n",
      "queriedLink zqfcp6NRKpA\n",
      "['I_QDeKcyvns', '.DS_Store', 'N2mG9ZKjrGA', 'C37R_Ix8-qs', 'SVWABYmFdhs', 'J7tP98oDxqE', 'CYx7qm62Zwo', 'WeAFuzYTdtU', 'PIsUJl8BN_I', 'S2cqitZ0qes', 'HPz_C5XM4o4']\n",
      "queriedLink 7y5Ye-2-ZBs\n",
      "['I_QDeKcyvns', '.DS_Store', 'N2mG9ZKjrGA', 'C37R_Ix8-qs', 'SVWABYmFdhs', 'J7tP98oDxqE', 'CYx7qm62Zwo', 'WeAFuzYTdtU', 'PIsUJl8BN_I', 'S2cqitZ0qes', 'HPz_C5XM4o4']\n",
      "queriedLink I_QDeKcyvns\n",
      "['I_QDeKcyvns', '.DS_Store', 'N2mG9ZKjrGA', 'C37R_Ix8-qs', 'SVWABYmFdhs', 'J7tP98oDxqE', 'CYx7qm62Zwo', 'WeAFuzYTdtU', 'PIsUJl8BN_I', 'S2cqitZ0qes', 'HPz_C5XM4o4']\n",
      "{'C37R_Ix8-qs': [], 'PIsUJl8BN_I': [], 'J7tP98oDxqE': [], 'N2mG9ZKjrGA': [], 'SVWABYmFdhs': [], 'CYx7qm62Zwo': [], 'HPz_C5XM4o4': [], 'S2cqitZ0qes': [], 'I_QDeKcyvns': []}\n",
      "queriedLink WeAFuzYTdtU\n",
      "['I_QDeKcyvns', '.DS_Store', 'N2mG9ZKjrGA', 'C37R_Ix8-qs', 'SVWABYmFdhs', 'J7tP98oDxqE', 'CYx7qm62Zwo', 'WeAFuzYTdtU', 'PIsUJl8BN_I', 'S2cqitZ0qes', 'HPz_C5XM4o4']\n",
      "{'C37R_Ix8-qs': [], 'PIsUJl8BN_I': [], 'J7tP98oDxqE': [], 'N2mG9ZKjrGA': [], 'SVWABYmFdhs': [], 'CYx7qm62Zwo': [], 'HPz_C5XM4o4': [], 'S2cqitZ0qes': [], 'I_QDeKcyvns': [], 'WeAFuzYTdtU': []}\n",
      "queriedLink WeAFuzYTdtU\n",
      "['I_QDeKcyvns', '.DS_Store', 'N2mG9ZKjrGA', 'C37R_Ix8-qs', 'SVWABYmFdhs', 'J7tP98oDxqE', 'CYx7qm62Zwo', 'WeAFuzYTdtU', 'PIsUJl8BN_I', 'S2cqitZ0qes', 'HPz_C5XM4o4']\n",
      "{'C37R_Ix8-qs': [], 'PIsUJl8BN_I': [], 'J7tP98oDxqE': [], 'N2mG9ZKjrGA': [], 'SVWABYmFdhs': [], 'CYx7qm62Zwo': [], 'HPz_C5XM4o4': [], 'S2cqitZ0qes': [], 'I_QDeKcyvns': [], 'WeAFuzYTdtU': []}\n",
      "queriedLink WeAFuzYTdtU\n",
      "['I_QDeKcyvns', '.DS_Store', 'N2mG9ZKjrGA', 'C37R_Ix8-qs', 'SVWABYmFdhs', 'J7tP98oDxqE', 'CYx7qm62Zwo', 'WeAFuzYTdtU', 'PIsUJl8BN_I', 'S2cqitZ0qes', 'HPz_C5XM4o4']\n",
      "{'C37R_Ix8-qs': [], 'PIsUJl8BN_I': [], 'J7tP98oDxqE': [], 'N2mG9ZKjrGA': [], 'SVWABYmFdhs': [], 'CYx7qm62Zwo': [], 'HPz_C5XM4o4': [], 'S2cqitZ0qes': [], 'I_QDeKcyvns': [], 'WeAFuzYTdtU': []}\n",
      "dict_keys(['C37R_Ix8-qs', 'PIsUJl8BN_I', 'J7tP98oDxqE', 'N2mG9ZKjrGA', 'SVWABYmFdhs', 'CYx7qm62Zwo', 'HPz_C5XM4o4', 'S2cqitZ0qes', 'I_QDeKcyvns', 'WeAFuzYTdtU'])\n",
      "dict_items([('C37R_Ix8-qs', [['match', 0.0, 2.767]]), ('PIsUJl8BN_I', [['fail', 0.0, 2.96]]), ('J7tP98oDxqE', [['book', 0.0, 2.64]]), ('N2mG9ZKjrGA', [['sign language', 0.0, 2.502]]), ('SVWABYmFdhs', [['easter', 0.0, 3.92]]), ('CYx7qm62Zwo', [['boring', 0.0, 2.84]]), ('HPz_C5XM4o4', [['phone', 0.0, 1.889], ['phone', 2.462, 4.148], ['phone', 4.991, 6.61]]), ('S2cqitZ0qes', [['library', 0.0, 2.92]]), ('I_QDeKcyvns', [['cochlear implant', 0.0, 3.737]]), ('WeAFuzYTdtU', [['rainbow', 1.804, 5.512], ['rainbow', 5.813, 8.986], ['rainbow', 9.354, 14.532]])])\n",
      "C37R_Ix8-qs\n",
      "Moviepy - Building video /Users/ingridmariewolneberg/Desktop/msasl/trimmed_dataset/match.mp4.\n",
      "MoviePy - Writing audio in matchTEMP_MPY_wvf_snd.mp3\n"
     ]
    },
    {
     "name": "stderr",
     "output_type": "stream",
     "text": [
      "                                                       \r"
     ]
    },
    {
     "name": "stdout",
     "output_type": "stream",
     "text": [
      "MoviePy - Done.\n",
      "Moviepy - Writing video /Users/ingridmariewolneberg/Desktop/msasl/trimmed_dataset/match.mp4\n",
      "\n"
     ]
    },
    {
     "name": "stderr",
     "output_type": "stream",
     "text": [
      "                                                             \r"
     ]
    },
    {
     "name": "stdout",
     "output_type": "stream",
     "text": [
      "Moviepy - Done !\n",
      "Moviepy - video ready /Users/ingridmariewolneberg/Desktop/msasl/trimmed_dataset/match.mp4\n",
      "PIsUJl8BN_I\n",
      "Moviepy - Building video /Users/ingridmariewolneberg/Desktop/msasl/trimmed_dataset/fail.mp4.\n",
      "MoviePy - Writing audio in failTEMP_MPY_wvf_snd.mp3\n"
     ]
    },
    {
     "name": "stderr",
     "output_type": "stream",
     "text": [
      "                                                       \r"
     ]
    },
    {
     "name": "stdout",
     "output_type": "stream",
     "text": [
      "MoviePy - Done.\n",
      "Moviepy - Writing video /Users/ingridmariewolneberg/Desktop/msasl/trimmed_dataset/fail.mp4\n",
      "\n"
     ]
    },
    {
     "name": "stderr",
     "output_type": "stream",
     "text": [
      "                                                             \r"
     ]
    },
    {
     "name": "stdout",
     "output_type": "stream",
     "text": [
      "Moviepy - Done !\n",
      "Moviepy - video ready /Users/ingridmariewolneberg/Desktop/msasl/trimmed_dataset/fail.mp4\n",
      "J7tP98oDxqE\n",
      "Moviepy - Building video /Users/ingridmariewolneberg/Desktop/msasl/trimmed_dataset/book.mp4.\n",
      "MoviePy - Writing audio in bookTEMP_MPY_wvf_snd.mp3\n"
     ]
    },
    {
     "name": "stderr",
     "output_type": "stream",
     "text": [
      "                                                       \r"
     ]
    },
    {
     "name": "stdout",
     "output_type": "stream",
     "text": [
      "MoviePy - Done.\n",
      "Moviepy - Writing video /Users/ingridmariewolneberg/Desktop/msasl/trimmed_dataset/book.mp4\n",
      "\n"
     ]
    },
    {
     "name": "stderr",
     "output_type": "stream",
     "text": [
      "                                                   \r"
     ]
    },
    {
     "name": "stdout",
     "output_type": "stream",
     "text": [
      "Moviepy - Done !\n",
      "Moviepy - video ready /Users/ingridmariewolneberg/Desktop/msasl/trimmed_dataset/book.mp4\n",
      "N2mG9ZKjrGA\n",
      "Moviepy - Building video /Users/ingridmariewolneberg/Desktop/msasl/trimmed_dataset/sign language.mp4.\n",
      "MoviePy - Writing audio in sign languageTEMP_MPY_wvf_snd.mp3\n"
     ]
    },
    {
     "name": "stderr",
     "output_type": "stream",
     "text": [
      "                                                       \r"
     ]
    },
    {
     "name": "stdout",
     "output_type": "stream",
     "text": [
      "MoviePy - Done.\n",
      "Moviepy - Writing video /Users/ingridmariewolneberg/Desktop/msasl/trimmed_dataset/sign language.mp4\n",
      "\n"
     ]
    },
    {
     "name": "stderr",
     "output_type": "stream",
     "text": [
      "                                                             \r"
     ]
    },
    {
     "name": "stdout",
     "output_type": "stream",
     "text": [
      "Moviepy - Done !\n",
      "Moviepy - video ready /Users/ingridmariewolneberg/Desktop/msasl/trimmed_dataset/sign language.mp4\n",
      "SVWABYmFdhs\n",
      "Moviepy - Building video /Users/ingridmariewolneberg/Desktop/msasl/trimmed_dataset/easter.mp4.\n",
      "MoviePy - Writing audio in easterTEMP_MPY_wvf_snd.mp3\n"
     ]
    },
    {
     "name": "stderr",
     "output_type": "stream",
     "text": [
      "                                                       \r"
     ]
    },
    {
     "name": "stdout",
     "output_type": "stream",
     "text": [
      "MoviePy - Done.\n",
      "Moviepy - Writing video /Users/ingridmariewolneberg/Desktop/msasl/trimmed_dataset/easter.mp4\n",
      "\n"
     ]
    },
    {
     "name": "stderr",
     "output_type": "stream",
     "text": [
      "                                                             \r"
     ]
    },
    {
     "name": "stdout",
     "output_type": "stream",
     "text": [
      "Moviepy - Done !\n",
      "Moviepy - video ready /Users/ingridmariewolneberg/Desktop/msasl/trimmed_dataset/easter.mp4\n",
      "CYx7qm62Zwo\n",
      "Moviepy - Building video /Users/ingridmariewolneberg/Desktop/msasl/trimmed_dataset/boring.mp4.\n",
      "MoviePy - Writing audio in boringTEMP_MPY_wvf_snd.mp3\n"
     ]
    },
    {
     "name": "stderr",
     "output_type": "stream",
     "text": [
      "                                                       \r"
     ]
    },
    {
     "name": "stdout",
     "output_type": "stream",
     "text": [
      "MoviePy - Done.\n",
      "Moviepy - Writing video /Users/ingridmariewolneberg/Desktop/msasl/trimmed_dataset/boring.mp4\n",
      "\n"
     ]
    },
    {
     "name": "stderr",
     "output_type": "stream",
     "text": [
      "                                                             \r"
     ]
    },
    {
     "name": "stdout",
     "output_type": "stream",
     "text": [
      "Moviepy - Done !\n",
      "Moviepy - video ready /Users/ingridmariewolneberg/Desktop/msasl/trimmed_dataset/boring.mp4\n",
      "HPz_C5XM4o4\n",
      "Moviepy - Building video /Users/ingridmariewolneberg/Desktop/msasl/trimmed_dataset/phone.mp4.\n",
      "MoviePy - Writing audio in phoneTEMP_MPY_wvf_snd.mp3\n"
     ]
    },
    {
     "name": "stderr",
     "output_type": "stream",
     "text": [
      "                                                       \r"
     ]
    },
    {
     "name": "stdout",
     "output_type": "stream",
     "text": [
      "MoviePy - Done.\n",
      "Moviepy - Writing video /Users/ingridmariewolneberg/Desktop/msasl/trimmed_dataset/phone.mp4\n",
      "\n"
     ]
    },
    {
     "name": "stderr",
     "output_type": "stream",
     "text": [
      "                                                   \r"
     ]
    },
    {
     "name": "stdout",
     "output_type": "stream",
     "text": [
      "Moviepy - Done !\n",
      "Moviepy - video ready /Users/ingridmariewolneberg/Desktop/msasl/trimmed_dataset/phone.mp4\n",
      "Moviepy - Building video /Users/ingridmariewolneberg/Desktop/msasl/trimmed_dataset/phone.mp4.\n",
      "MoviePy - Writing audio in phoneTEMP_MPY_wvf_snd.mp3\n"
     ]
    },
    {
     "name": "stderr",
     "output_type": "stream",
     "text": [
      "                                                       \r"
     ]
    },
    {
     "name": "stdout",
     "output_type": "stream",
     "text": [
      "MoviePy - Done.\n",
      "Moviepy - Writing video /Users/ingridmariewolneberg/Desktop/msasl/trimmed_dataset/phone.mp4\n",
      "\n"
     ]
    },
    {
     "name": "stderr",
     "output_type": "stream",
     "text": [
      "                                                   \r"
     ]
    },
    {
     "name": "stdout",
     "output_type": "stream",
     "text": [
      "Moviepy - Done !\n",
      "Moviepy - video ready /Users/ingridmariewolneberg/Desktop/msasl/trimmed_dataset/phone.mp4\n",
      "Moviepy - Building video /Users/ingridmariewolneberg/Desktop/msasl/trimmed_dataset/phone.mp4.\n",
      "MoviePy - Writing audio in phoneTEMP_MPY_wvf_snd.mp3\n"
     ]
    },
    {
     "name": "stderr",
     "output_type": "stream",
     "text": [
      "                                                       \r"
     ]
    },
    {
     "name": "stdout",
     "output_type": "stream",
     "text": [
      "MoviePy - Done.\n",
      "Moviepy - Writing video /Users/ingridmariewolneberg/Desktop/msasl/trimmed_dataset/phone.mp4\n",
      "\n"
     ]
    },
    {
     "name": "stderr",
     "output_type": "stream",
     "text": [
      "                                                   \r"
     ]
    },
    {
     "name": "stdout",
     "output_type": "stream",
     "text": [
      "Moviepy - Done !\n",
      "Moviepy - video ready /Users/ingridmariewolneberg/Desktop/msasl/trimmed_dataset/phone.mp4\n",
      "S2cqitZ0qes\n",
      "Moviepy - Building video /Users/ingridmariewolneberg/Desktop/msasl/trimmed_dataset/library.mp4.\n",
      "MoviePy - Writing audio in libraryTEMP_MPY_wvf_snd.mp3\n"
     ]
    },
    {
     "name": "stderr",
     "output_type": "stream",
     "text": [
      "                                                       \r"
     ]
    },
    {
     "name": "stdout",
     "output_type": "stream",
     "text": [
      "MoviePy - Done.\n",
      "Moviepy - Writing video /Users/ingridmariewolneberg/Desktop/msasl/trimmed_dataset/library.mp4\n",
      "\n"
     ]
    },
    {
     "name": "stderr",
     "output_type": "stream",
     "text": [
      "                                                   \r"
     ]
    },
    {
     "name": "stdout",
     "output_type": "stream",
     "text": [
      "Moviepy - Done !\n",
      "Moviepy - video ready /Users/ingridmariewolneberg/Desktop/msasl/trimmed_dataset/library.mp4\n",
      "I_QDeKcyvns\n",
      "Moviepy - Building video /Users/ingridmariewolneberg/Desktop/msasl/trimmed_dataset/cochlear implant.mp4.\n",
      "MoviePy - Writing audio in cochlear implantTEMP_MPY_wvf_snd.mp3\n"
     ]
    },
    {
     "name": "stderr",
     "output_type": "stream",
     "text": [
      "                                                       \r"
     ]
    },
    {
     "name": "stdout",
     "output_type": "stream",
     "text": [
      "MoviePy - Done.\n",
      "Moviepy - Writing video /Users/ingridmariewolneberg/Desktop/msasl/trimmed_dataset/cochlear implant.mp4\n",
      "\n"
     ]
    },
    {
     "name": "stderr",
     "output_type": "stream",
     "text": [
      "                                                             \r"
     ]
    },
    {
     "name": "stdout",
     "output_type": "stream",
     "text": [
      "Moviepy - Done !\n",
      "Moviepy - video ready /Users/ingridmariewolneberg/Desktop/msasl/trimmed_dataset/cochlear implant.mp4\n",
      "WeAFuzYTdtU\n",
      "Moviepy - Building video /Users/ingridmariewolneberg/Desktop/msasl/trimmed_dataset/rainbow.mp4.\n",
      "MoviePy - Writing audio in rainbowTEMP_MPY_wvf_snd.mp3\n"
     ]
    },
    {
     "name": "stderr",
     "output_type": "stream",
     "text": [
      "                                                       \r"
     ]
    },
    {
     "name": "stdout",
     "output_type": "stream",
     "text": [
      "MoviePy - Done.\n",
      "Moviepy - Writing video /Users/ingridmariewolneberg/Desktop/msasl/trimmed_dataset/rainbow.mp4\n",
      "\n"
     ]
    },
    {
     "name": "stderr",
     "output_type": "stream",
     "text": [
      "                                                             \r"
     ]
    },
    {
     "name": "stdout",
     "output_type": "stream",
     "text": [
      "Moviepy - Done !\n",
      "Moviepy - video ready /Users/ingridmariewolneberg/Desktop/msasl/trimmed_dataset/rainbow.mp4\n",
      "Moviepy - Building video /Users/ingridmariewolneberg/Desktop/msasl/trimmed_dataset/rainbow.mp4.\n",
      "MoviePy - Writing audio in rainbowTEMP_MPY_wvf_snd.mp3\n"
     ]
    },
    {
     "name": "stderr",
     "output_type": "stream",
     "text": [
      "                                                       \r"
     ]
    },
    {
     "name": "stdout",
     "output_type": "stream",
     "text": [
      "MoviePy - Done.\n",
      "Moviepy - Writing video /Users/ingridmariewolneberg/Desktop/msasl/trimmed_dataset/rainbow.mp4\n",
      "\n"
     ]
    },
    {
     "name": "stderr",
     "output_type": "stream",
     "text": [
      "                                                             \r"
     ]
    },
    {
     "name": "stdout",
     "output_type": "stream",
     "text": [
      "Moviepy - Done !\n",
      "Moviepy - video ready /Users/ingridmariewolneberg/Desktop/msasl/trimmed_dataset/rainbow.mp4\n",
      "Moviepy - Building video /Users/ingridmariewolneberg/Desktop/msasl/trimmed_dataset/rainbow.mp4.\n",
      "MoviePy - Writing audio in rainbowTEMP_MPY_wvf_snd.mp3\n"
     ]
    },
    {
     "name": "stderr",
     "output_type": "stream",
     "text": [
      "                                                        \r"
     ]
    },
    {
     "name": "stdout",
     "output_type": "stream",
     "text": [
      "MoviePy - Done.\n",
      "Moviepy - Writing video /Users/ingridmariewolneberg/Desktop/msasl/trimmed_dataset/rainbow.mp4\n",
      "\n"
     ]
    },
    {
     "name": "stderr",
     "output_type": "stream",
     "text": [
      "                                                              \r"
     ]
    },
    {
     "name": "stdout",
     "output_type": "stream",
     "text": [
      "Moviepy - Done !\n",
      "Moviepy - video ready /Users/ingridmariewolneberg/Desktop/msasl/trimmed_dataset/rainbow.mp4\n"
     ]
    }
   ],
   "source": [
    "# Get a list of all mp4 files in the folder\n",
    "files = os.listdir(folder_path + dataset_path)\n",
    "videonames = []\n",
    "availableVideos = []\n",
    "\n",
    "# Get a list of all mp4 files in trimmed_dataset\n",
    "trimmedFiles = os.listdir(folder_path + trimmed_dataset_path)\n",
    "trimmedVideoNames = []\n",
    "file_extension = 'mp4'\n",
    "print(limitedDataset)\n",
    "loadFilenames()\n",
    "print(filenames)\n",
    "getAllVideoUrl()\n",
    "getAllTimeStamps()\n",
    "\n",
    "def getDatasetNames():\n",
    "# Print the list of dataset files\n",
    "    for file in files:\n",
    "        videonames.append(os.path.splitext(file)[0])\n",
    "\n",
    "def getTrimmedDatasetNames():\n",
    "    # Print the list of files\n",
    "    for file in trimmedFiles:\n",
    "        trimmedVideoNames.append(os.path.splitext(file)[0])\n",
    "\n",
    "def trimVid(name, segments):\n",
    "    print(name)\n",
    "    getTrimmedDatasetNames()\n",
    "    for i in segments:\n",
    "        outputName = i[0]\n",
    "        startTime = i[1]\n",
    "        endTime = i[2]\n",
    "        video = VideoFileClip(folder_path + dataset_path + name +\".mp4\").subclip(startTime, endTime)\n",
    "        # check if file exists in trimmed-dataset\n",
    "        if any([outputName in trimmedVideoNames]):\n",
    "            print('file exists')\n",
    "            print('I should be merging ' + outputName)\n",
    "            video_2 = VideoFileClip(folder_path + trimmed_dataset_path + outputName +\".mp4\")\n",
    "            finalvideo = concatenate_videoclips([video, video_2])\n",
    "            finalvideo.write_videofile(folder_path + trimmed_dataset_path + outputName + \".mp4\", fps=25)\n",
    "        else:\n",
    "            video.write_videofile(folder_path + trimmed_dataset_path + outputName + \".mp4\", fps=25)\n",
    "\n",
    "\n",
    "getDatasetNames()\n",
    "getTrimmedDatasetNames()\n",
    "\n",
    "print(fileLookup.keys())\n",
    "print(fileLookup.items())\n",
    "\n",
    "for item in fileLookup.keys():\n",
    "    trimVid(item, fileLookup[item])\n",
    "\n",
    "\n",
    "# # Multithreaded\n",
    "# def worker(q):\n",
    "#     while True:\n",
    "#         item = q.get()\n",
    "#         print(\"Item\")\n",
    "#         print(item)\n",
    "#         if item is None:\n",
    "#             break\n",
    "#         trimVid(item, fileLookup[item])\n",
    "#         # Your code to process the item here\n",
    "#         q.task_done()\n",
    "\n",
    "# q = Queue()\n",
    "# threads = []\n",
    "# for i in range(num_worker_threads):\n",
    "#     t = Thread(target=worker, args=(q,))\n",
    "#     t.start()\n",
    "#     threads.append(t)\n",
    "\n",
    "# # Your code to add items to the queue here\n",
    "\n",
    "# for name in videonames:\n",
    "#     q.put(name)\n",
    "\n",
    "# # Block until all tasks are done\n",
    "# q.join()\n",
    "\n",
    "# # Stop workers\n",
    "# for i in range(num_worker_threads):\n",
    "#     q.put(None)\n",
    "# for t in threads:\n",
    "#     t.join()"
   ]
  }
 ],
 "metadata": {
  "kernelspec": {
   "display_name": ".mastervenv",
   "language": "python",
   "name": "python3"
  },
  "language_info": {
   "codemirror_mode": {
    "name": "ipython",
    "version": 3
   },
   "file_extension": ".py",
   "mimetype": "text/x-python",
   "name": "python",
   "nbconvert_exporter": "python",
   "pygments_lexer": "ipython3",
   "version": "3.10.13"
  }
 },
 "nbformat": 4,
 "nbformat_minor": 2
}
